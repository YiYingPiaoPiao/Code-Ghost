{
 "cells": [
  {
   "cell_type": "code",
   "execution_count": 31,
   "id": "47c1e6eb",
   "metadata": {},
   "outputs": [],
   "source": [
    "from selenium import webdriver\n",
    "from selenium.webdriver.common.by      import By\n",
    "from selenium.webdriver.common.keys    import Keys\n",
    "from selenium.webdriver.chrome.options import Options\n",
    "\n",
    "from selenium.common.exceptions import NoSuchElementException"
   ]
  },
  {
   "cell_type": "code",
   "execution_count": 32,
   "id": "c053b943",
   "metadata": {},
   "outputs": [],
   "source": [
    "login_url = 'https://nlibvpn.bit.edu.cn/http-88/77726476706e69737468656265737421a1a70fcc696726052d/urmp/xwlwindex/index/expertsearch.do'\n",
    "userName  = '1820201063'\n",
    "userPwd   = 'SeeChen0806'"
   ]
  },
  {
   "cell_type": "code",
   "execution_count": 33,
   "id": "8d23d87c",
   "metadata": {},
   "outputs": [],
   "source": [
    "options = webdriver.ChromeOptions()"
   ]
  },
  {
   "cell_type": "code",
   "execution_count": 39,
   "id": "78d7d43e",
   "metadata": {},
   "outputs": [],
   "source": [
    "browser = webdriver.Chrome(options=options)\n",
    "browser.get(login_url)"
   ]
  },
  {
   "cell_type": "code",
   "execution_count": 44,
   "id": "336b372b",
   "metadata": {},
   "outputs": [],
   "source": [
    "# 登录操作\n",
    "browser.find_element(By.ID, \"username\").send_keys(userName)\n",
    "browser.find_element(By.ID, \"password\").send_keys(userPwd)\n",
    "\n",
    "browser.find_element(By.ID, \"login_submit\").click()"
   ]
  },
  {
   "cell_type": "code",
   "execution_count": 47,
   "id": "fadc8ac1",
   "metadata": {},
   "outputs": [],
   "source": [
    "test = browser.find_elements(By.TAG_NAME, 'input')"
   ]
  },
  {
   "cell_type": "code",
   "execution_count": null,
   "id": "44c397af",
   "metadata": {},
   "outputs": [],
   "source": []
  }
 ],
 "metadata": {
  "kernelspec": {
   "display_name": "Python 3 (ipykernel)",
   "language": "python",
   "name": "python3"
  },
  "language_info": {
   "codemirror_mode": {
    "name": "ipython",
    "version": 3
   },
   "file_extension": ".py",
   "mimetype": "text/x-python",
   "name": "python",
   "nbconvert_exporter": "python",
   "pygments_lexer": "ipython3",
   "version": "3.9.7"
  }
 },
 "nbformat": 4,
 "nbformat_minor": 5
}
